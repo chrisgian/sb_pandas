{
 "cells": [
  {
   "cell_type": "code",
   "execution_count": 1,
   "metadata": {
    "collapsed": true
   },
   "outputs": [],
   "source": [
    "import pandas as pd\n",
    "import numpy as np\n",
    "import matplotlib as plt\n",
    "%matplotlib inline"
   ]
  },
  {
   "cell_type": "code",
   "execution_count": 2,
   "metadata": {
    "collapsed": false
   },
   "outputs": [],
   "source": [
    "path = 'C:\\\\Users\\\\chris\\\\Documents\\\\pandas_deep_dive\\\\data\\\\'\n",
    "titles = pd.read_csv(path+'titles.csv')\n",
    "cast = pd.read_csv(path+'cast.csv')\n",
    "release_dates = pd.read_csv(path + 'release_dates.csv')"
   ]
  },
  {
   "cell_type": "code",
   "execution_count": 3,
   "metadata": {
    "collapsed": false
   },
   "outputs": [],
   "source": [
    "h1 = titles.head()\n",
    "h2 = cast.head()"
   ]
  },
  {
   "cell_type": "code",
   "execution_count": 4,
   "metadata": {
    "collapsed": false
   },
   "outputs": [
    {
     "data": {
      "text/html": [
       "<div>\n",
       "<table border=\"1\" class=\"dataframe\">\n",
       "  <thead>\n",
       "    <tr style=\"text-align: right;\">\n",
       "      <th></th>\n",
       "      <th>title</th>\n",
       "      <th>year</th>\n",
       "    </tr>\n",
       "  </thead>\n",
       "  <tbody>\n",
       "    <tr>\n",
       "      <th>0</th>\n",
       "      <td>The Rising Son</td>\n",
       "      <td>1990</td>\n",
       "    </tr>\n",
       "    <tr>\n",
       "      <th>1</th>\n",
       "      <td>The Thousand Plane Raid</td>\n",
       "      <td>1969</td>\n",
       "    </tr>\n",
       "    <tr>\n",
       "      <th>2</th>\n",
       "      <td>Crucea de piatra</td>\n",
       "      <td>1993</td>\n",
       "    </tr>\n",
       "    <tr>\n",
       "      <th>3</th>\n",
       "      <td>Country</td>\n",
       "      <td>2000</td>\n",
       "    </tr>\n",
       "    <tr>\n",
       "      <th>4</th>\n",
       "      <td>Gaiking II</td>\n",
       "      <td>2011</td>\n",
       "    </tr>\n",
       "  </tbody>\n",
       "</table>\n",
       "</div>"
      ],
      "text/plain": [
       "                     title  year\n",
       "0           The Rising Son  1990\n",
       "1  The Thousand Plane Raid  1969\n",
       "2         Crucea de piatra  1993\n",
       "3                  Country  2000\n",
       "4               Gaiking II  2011"
      ]
     },
     "execution_count": 4,
     "metadata": {},
     "output_type": "execute_result"
    }
   ],
   "source": [
    "# access the \"series\" in a dataframe\n",
    "h1.year # same as: h1['year']\n",
    "h1[(h1.year > 1980) | (h1.year  < 1970)]\n",
    "# you have to use h1.year and not year, because we're creating an array of t/f"
   ]
  },
  {
   "cell_type": "code",
   "execution_count": 5,
   "metadata": {
    "collapsed": false
   },
   "outputs": [
    {
     "data": {
      "text/html": [
       "<div>\n",
       "<table border=\"1\" class=\"dataframe\">\n",
       "  <thead>\n",
       "    <tr style=\"text-align: right;\">\n",
       "      <th></th>\n",
       "      <th>title</th>\n",
       "      <th>year</th>\n",
       "    </tr>\n",
       "  </thead>\n",
       "  <tbody>\n",
       "    <tr>\n",
       "      <th>4162</th>\n",
       "      <td>Macbeth</td>\n",
       "      <td>1913</td>\n",
       "    </tr>\n",
       "    <tr>\n",
       "      <th>11539</th>\n",
       "      <td>Macbeth</td>\n",
       "      <td>2013</td>\n",
       "    </tr>\n",
       "    <tr>\n",
       "      <th>16930</th>\n",
       "      <td>Macbeth</td>\n",
       "      <td>1997</td>\n",
       "    </tr>\n",
       "    <tr>\n",
       "      <th>25430</th>\n",
       "      <td>Macbeth</td>\n",
       "      <td>1998</td>\n",
       "    </tr>\n",
       "  </tbody>\n",
       "</table>\n",
       "</div>"
      ],
      "text/plain": [
       "         title  year\n",
       "4162   Macbeth  1913\n",
       "11539  Macbeth  2013\n",
       "16930  Macbeth  1997\n",
       "25430  Macbeth  1998"
      ]
     },
     "execution_count": 5,
     "metadata": {},
     "output_type": "execute_result"
    }
   ],
   "source": [
    "# subset data\n",
    "titles[titles.title  == 'Macbeth'].head(4)"
   ]
  },
  {
   "cell_type": "code",
   "execution_count": 6,
   "metadata": {
    "collapsed": false
   },
   "outputs": [
    {
     "data": {
      "text/plain": [
       "176477    1894\n",
       "213694    1898\n",
       "123627    1899\n",
       "182202    1900\n",
       "Name: year, dtype: int64"
      ]
     },
     "execution_count": 6,
     "metadata": {},
     "output_type": "execute_result"
    }
   ],
   "source": [
    "# for series use sort_values\n",
    "titles.year.sort_values(ascending=True).head(4)"
   ]
  },
  {
   "cell_type": "code",
   "execution_count": 7,
   "metadata": {
    "collapsed": false
   },
   "outputs": [
    {
     "data": {
      "text/html": [
       "<div>\n",
       "<table border=\"1\" class=\"dataframe\">\n",
       "  <thead>\n",
       "    <tr style=\"text-align: right;\">\n",
       "      <th></th>\n",
       "      <th>title</th>\n",
       "      <th>year</th>\n",
       "      <th>name</th>\n",
       "      <th>type</th>\n",
       "      <th>character</th>\n",
       "      <th>n</th>\n",
       "    </tr>\n",
       "  </thead>\n",
       "  <tbody>\n",
       "    <tr>\n",
       "      <th>1</th>\n",
       "      <td>Suuri illusioni</td>\n",
       "      <td>1985</td>\n",
       "      <td>Homo $</td>\n",
       "      <td>actor</td>\n",
       "      <td>Guests</td>\n",
       "      <td>22.0</td>\n",
       "    </tr>\n",
       "    <tr>\n",
       "      <th>2</th>\n",
       "      <td>Battle of the Sexes</td>\n",
       "      <td>2017</td>\n",
       "      <td>$hutter</td>\n",
       "      <td>actor</td>\n",
       "      <td>Bobby Riggs Fan</td>\n",
       "      <td>10.0</td>\n",
       "    </tr>\n",
       "    <tr>\n",
       "      <th>8</th>\n",
       "      <td>Lapis, Ballpen at Diploma, a True to Life Journey</td>\n",
       "      <td>2014</td>\n",
       "      <td>Jori ' Danilo' Jurado Jr.</td>\n",
       "      <td>actor</td>\n",
       "      <td>Jaime (young)</td>\n",
       "      <td>9.0</td>\n",
       "    </tr>\n",
       "    <tr>\n",
       "      <th>10</th>\n",
       "      <td>When the Man Went South</td>\n",
       "      <td>2014</td>\n",
       "      <td>Taipaleti 'Atu'ake</td>\n",
       "      <td>actor</td>\n",
       "      <td>Two Palms - Ua'i Paame</td>\n",
       "      <td>8.0</td>\n",
       "    </tr>\n",
       "  </tbody>\n",
       "</table>\n",
       "</div>"
      ],
      "text/plain": [
       "                                                title  year  \\\n",
       "1                                     Suuri illusioni  1985   \n",
       "2                                 Battle of the Sexes  2017   \n",
       "8   Lapis, Ballpen at Diploma, a True to Life Journey  2014   \n",
       "10                            When the Man Went South  2014   \n",
       "\n",
       "                         name   type               character     n  \n",
       "1                      Homo $  actor                  Guests  22.0  \n",
       "2                     $hutter  actor         Bobby Riggs Fan  10.0  \n",
       "8   Jori ' Danilo' Jurado Jr.  actor           Jaime (young)   9.0  \n",
       "10         Taipaleti 'Atu'ake  actor  Two Palms - Ua'i Paame   8.0  "
      ]
     },
     "execution_count": 7,
     "metadata": {},
     "output_type": "execute_result"
    }
   ],
   "source": [
    "# remove nulls\n",
    "cast[cast.n.notnull()].head(4)"
   ]
  },
  {
   "cell_type": "code",
   "execution_count": 8,
   "metadata": {
    "collapsed": false
   },
   "outputs": [
    {
     "data": {
      "text/html": [
       "<div>\n",
       "<table border=\"1\" class=\"dataframe\">\n",
       "  <thead>\n",
       "    <tr style=\"text-align: right;\">\n",
       "      <th></th>\n",
       "      <th>title</th>\n",
       "      <th>year</th>\n",
       "    </tr>\n",
       "  </thead>\n",
       "  <tbody>\n",
       "    <tr>\n",
       "      <th>5969</th>\n",
       "      <td>Hamlet</td>\n",
       "      <td>1948</td>\n",
       "    </tr>\n",
       "    <tr>\n",
       "      <th>7598</th>\n",
       "      <td>Hamlet: Prince of Denmark</td>\n",
       "      <td>1989</td>\n",
       "    </tr>\n",
       "    <tr>\n",
       "      <th>8511</th>\n",
       "      <td>Hamlet (II)</td>\n",
       "      <td>2005</td>\n",
       "    </tr>\n",
       "    <tr>\n",
       "      <th>8794</th>\n",
       "      <td>Hamlet (II)</td>\n",
       "      <td>2015</td>\n",
       "    </tr>\n",
       "  </tbody>\n",
       "</table>\n",
       "</div>"
      ],
      "text/plain": [
       "                          title  year\n",
       "5969                     Hamlet  1948\n",
       "7598  Hamlet: Prince of Denmark  1989\n",
       "8511                Hamlet (II)  2005\n",
       "8794                Hamlet (II)  2015"
      ]
     },
     "execution_count": 8,
     "metadata": {},
     "output_type": "execute_result"
    }
   ],
   "source": [
    "\"Hamlet\".startswith('Hamlet')\n",
    "# in a data fram we have to use .str.\n",
    "titles[titles.title.str.startswith(\"Hamlet\")].head(4)"
   ]
  },
  {
   "cell_type": "code",
   "execution_count": 9,
   "metadata": {
    "collapsed": false
   },
   "outputs": [
    {
     "data": {
      "text/html": [
       "<div>\n",
       "<table border=\"1\" class=\"dataframe\">\n",
       "  <thead>\n",
       "    <tr style=\"text-align: right;\">\n",
       "      <th></th>\n",
       "      <th>title</th>\n",
       "      <th>year</th>\n",
       "    </tr>\n",
       "  </thead>\n",
       "  <tbody>\n",
       "    <tr>\n",
       "      <th>7310</th>\n",
       "      <td>Fight! Batman, Fight!</td>\n",
       "      <td>1973</td>\n",
       "    </tr>\n",
       "    <tr>\n",
       "      <th>14078</th>\n",
       "      <td>The Lego Batman Movie</td>\n",
       "      <td>2017</td>\n",
       "    </tr>\n",
       "    <tr>\n",
       "      <th>23950</th>\n",
       "      <td>Batman: The Movie</td>\n",
       "      <td>1966</td>\n",
       "    </tr>\n",
       "    <tr>\n",
       "      <th>26908</th>\n",
       "      <td>Batman Untold</td>\n",
       "      <td>2010</td>\n",
       "    </tr>\n",
       "  </tbody>\n",
       "</table>\n",
       "</div>"
      ],
      "text/plain": [
       "                       title  year\n",
       "7310   Fight! Batman, Fight!  1973\n",
       "14078  The Lego Batman Movie  2017\n",
       "23950      Batman: The Movie  1966\n",
       "26908          Batman Untold  2010"
      ]
     },
     "execution_count": 9,
     "metadata": {},
     "output_type": "execute_result"
    }
   ],
   "source": [
    "# use contains\n",
    "titles[titles.title.str.contains(\"Batman\")].head(4)"
   ]
  },
  {
   "cell_type": "code",
   "execution_count": 10,
   "metadata": {
    "collapsed": false
   },
   "outputs": [
    {
     "data": {
      "text/plain": [
       "<matplotlib.axes._subplots.AxesSubplot at 0x1dda18c85c0>"
      ]
     },
     "execution_count": 10,
     "metadata": {},
     "output_type": "execute_result"
    },
    {
     "data": {
      "image/png": "[encoded data removed]",
      "text/plain": [
       "<matplotlib.figure.Figure at 0x1dda7c55c18>"
      ]
     },
     "metadata": {},
     "output_type": "display_data"
    }
   ],
   "source": [
    "#value_counts, similar to table\n",
    "h = titles.year.value_counts()\n",
    "# notice that series is not sorted by year, and instead the frequency.\n",
    "# the index needs to be sorted. \n",
    "h = h.sort_index(ascending=False)\n",
    "h.plot()"
   ]
  },
  {
   "cell_type": "code",
   "execution_count": 11,
   "metadata": {
    "collapsed": false
   },
   "outputs": [
    {
     "data": {
      "text/plain": [
       "<matplotlib.axes._subplots.AxesSubplot at 0x1dda19b3898>"
      ]
     },
     "execution_count": 11,
     "metadata": {},
     "output_type": "execute_result"
    },
    {
     "data": {
      "image/png": "[encoded data removed]",
      "text/plain": [
       "<matplotlib.figure.Figure at 0x1dda19a86a0>"
      ]
     },
     "metadata": {},
     "output_type": "display_data"
    }
   ],
   "source": [
    "# more plotting\n",
    "c = cast\n",
    "c = cast[cast.character == 'Kermit the Frog']\n",
    "c.plot(x = 'year', y = 'n', kind = 'scatter')"
   ]
  },
  {
   "cell_type": "code",
   "execution_count": 12,
   "metadata": {
    "collapsed": false
   },
   "outputs": [
    {
     "data": {
      "text/html": [
       "<div>\n",
       "<table border=\"1\" class=\"dataframe\">\n",
       "  <thead>\n",
       "    <tr style=\"text-align: right;\">\n",
       "      <th></th>\n",
       "      <th>year</th>\n",
       "    </tr>\n",
       "  </thead>\n",
       "  <tbody>\n",
       "    <tr>\n",
       "      <th>0</th>\n",
       "      <td>2010</td>\n",
       "    </tr>\n",
       "    <tr>\n",
       "      <th>1</th>\n",
       "      <td>1989</td>\n",
       "    </tr>\n",
       "    <tr>\n",
       "      <th>2</th>\n",
       "      <td>2013</td>\n",
       "    </tr>\n",
       "    <tr>\n",
       "      <th>3</th>\n",
       "      <td>2020</td>\n",
       "    </tr>\n",
       "    <tr>\n",
       "      <th>4</th>\n",
       "      <td>2031</td>\n",
       "    </tr>\n",
       "    <tr>\n",
       "      <th>5</th>\n",
       "      <td>2035</td>\n",
       "    </tr>\n",
       "    <tr>\n",
       "      <th>6</th>\n",
       "      <td>2028</td>\n",
       "    </tr>\n",
       "    <tr>\n",
       "      <th>7</th>\n",
       "      <td>1990</td>\n",
       "    </tr>\n",
       "    <tr>\n",
       "      <th>8</th>\n",
       "      <td>2036</td>\n",
       "    </tr>\n",
       "    <tr>\n",
       "      <th>9</th>\n",
       "      <td>2028</td>\n",
       "    </tr>\n",
       "  </tbody>\n",
       "</table>\n",
       "</div>"
      ],
      "text/plain": [
       "   year\n",
       "0  2010\n",
       "1  1989\n",
       "2  2013\n",
       "3  2020\n",
       "4  2031\n",
       "5  2035\n",
       "6  2028\n",
       "7  1990\n",
       "8  2036\n",
       "9  2028"
      ]
     },
     "execution_count": 12,
     "metadata": {},
     "output_type": "execute_result"
    }
   ],
   "source": [
    "# Columns vs Series\n",
    "t = titles.head(10)\n",
    "t = t[['year']] # select the column\n",
    "t + 20"
   ]
  },
  {
   "cell_type": "code",
   "execution_count": 13,
   "metadata": {
    "collapsed": false
   },
   "outputs": [
    {
     "data": {
      "text/plain": [
       "0    2010\n",
       "1    1989\n",
       "2    2013\n",
       "3    2020\n",
       "4    2031\n",
       "5    2035\n",
       "6    2028\n",
       "7    1990\n",
       "8    2036\n",
       "9    2028\n",
       "Name: year, dtype: int64"
      ]
     },
     "execution_count": 13,
     "metadata": {},
     "output_type": "execute_result"
    }
   ],
   "source": [
    "# Columns vs Series\n",
    "t = titles.head(10)\n",
    "t = t.year # select the column\n",
    "t + 20"
   ]
  },
  {
   "cell_type": "code",
   "execution_count": 14,
   "metadata": {
    "collapsed": false
   },
   "outputs": [
    {
     "name": "stdout",
     "output_type": "stream",
     "text": [
      "Wall time: 494 ms\n"
     ]
    },
    {
     "data": {
      "text/html": [
       "<div>\n",
       "<table border=\"1\" class=\"dataframe\">\n",
       "  <thead>\n",
       "    <tr style=\"text-align: right;\">\n",
       "      <th></th>\n",
       "      <th>title</th>\n",
       "      <th>year</th>\n",
       "      <th>name</th>\n",
       "      <th>type</th>\n",
       "      <th>character</th>\n",
       "      <th>n</th>\n",
       "    </tr>\n",
       "  </thead>\n",
       "  <tbody>\n",
       "    <tr>\n",
       "      <th>250297</th>\n",
       "      <td>Sleuth</td>\n",
       "      <td>2007</td>\n",
       "      <td>Kenneth Branagh</td>\n",
       "      <td>actor</td>\n",
       "      <td>Other Man on T.V.</td>\n",
       "      <td>NaN</td>\n",
       "    </tr>\n",
       "    <tr>\n",
       "      <th>314691</th>\n",
       "      <td>Sleuth</td>\n",
       "      <td>1972</td>\n",
       "      <td>Michael Caine</td>\n",
       "      <td>actor</td>\n",
       "      <td>Milo Tindle</td>\n",
       "      <td>2.0</td>\n",
       "    </tr>\n",
       "    <tr>\n",
       "      <th>314692</th>\n",
       "      <td>Sleuth</td>\n",
       "      <td>2007</td>\n",
       "      <td>Michael Caine</td>\n",
       "      <td>actor</td>\n",
       "      <td>Andrew</td>\n",
       "      <td>1.0</td>\n",
       "    </tr>\n",
       "    <tr>\n",
       "      <th>360365</th>\n",
       "      <td>Sleuth</td>\n",
       "      <td>1972</td>\n",
       "      <td>Alec Cawthorne</td>\n",
       "      <td>actor</td>\n",
       "      <td>Inspector Doppler</td>\n",
       "      <td>3.0</td>\n",
       "    </tr>\n",
       "    <tr>\n",
       "      <th>360366</th>\n",
       "      <td>Sleuth</td>\n",
       "      <td>2007</td>\n",
       "      <td>Alec (II) Cawthorne</td>\n",
       "      <td>actor</td>\n",
       "      <td>Inspector Doppler</td>\n",
       "      <td>NaN</td>\n",
       "    </tr>\n",
       "  </tbody>\n",
       "</table>\n",
       "</div>"
      ],
      "text/plain": [
       "         title  year                 name   type          character    n\n",
       "250297  Sleuth  2007      Kenneth Branagh  actor  Other Man on T.V.  NaN\n",
       "314691  Sleuth  1972        Michael Caine  actor        Milo Tindle  2.0\n",
       "314692  Sleuth  2007        Michael Caine  actor             Andrew  1.0\n",
       "360365  Sleuth  1972       Alec Cawthorne  actor  Inspector Doppler  3.0\n",
       "360366  Sleuth  2007  Alec (II) Cawthorne  actor  Inspector Doppler  NaN"
      ]
     },
     "execution_count": 14,
     "metadata": {},
     "output_type": "execute_result"
    }
   ],
   "source": [
    "%%time\n",
    "cast[cast.title == 'Sleuth'].head()"
   ]
  },
  {
   "cell_type": "code",
   "execution_count": 15,
   "metadata": {
    "collapsed": false
   },
   "outputs": [
    {
     "name": "stdout",
     "output_type": "stream",
     "text": [
      "Wall time: 14.9 s\n"
     ]
    }
   ],
   "source": [
    "%%time\n",
    "# set a new index \n",
    "c = cast\n",
    "c = c.set_index(['title']).sort_index()\n",
    "# if you sort index, it'll be faster! when you pull data -- \n",
    "#great for apps with repeated queries"
   ]
  },
  {
   "cell_type": "code",
   "execution_count": null,
   "metadata": {
    "collapsed": false
   },
   "outputs": [
    {
     "name": "stdout",
     "output_type": "stream",
     "text": [
      "Wall time: 1.57 s\n"
     ]
    },
    {
     "data": {
      "text/html": [
       "<div>\n",
       "<table border=\"1\" class=\"dataframe\">\n",
       "  <thead>\n",
       "    <tr style=\"text-align: right;\">\n",
       "      <th></th>\n",
       "      <th>year</th>\n",
       "      <th>name</th>\n",
       "      <th>type</th>\n",
       "      <th>character</th>\n",
       "      <th>n</th>\n",
       "    </tr>\n",
       "    <tr>\n",
       "      <th>title</th>\n",
       "      <th></th>\n",
       "      <th></th>\n",
       "      <th></th>\n",
       "      <th></th>\n",
       "      <th></th>\n",
       "    </tr>\n",
       "  </thead>\n",
       "  <tbody>\n",
       "    <tr>\n",
       "      <th>Batman</th>\n",
       "      <td>1989</td>\n",
       "      <td>Hugo Blick</td>\n",
       "      <td>actor</td>\n",
       "      <td>Young Jack Napier</td>\n",
       "      <td>41.0</td>\n",
       "    </tr>\n",
       "    <tr>\n",
       "      <th>Batman</th>\n",
       "      <td>1943</td>\n",
       "      <td>Blackie Whiteford</td>\n",
       "      <td>actor</td>\n",
       "      <td>Barfly</td>\n",
       "      <td>NaN</td>\n",
       "    </tr>\n",
       "    <tr>\n",
       "      <th>Batman</th>\n",
       "      <td>1989</td>\n",
       "      <td>Elliott (II) Stein</td>\n",
       "      <td>actor</td>\n",
       "      <td>Man in Crowd</td>\n",
       "      <td>53.0</td>\n",
       "    </tr>\n",
       "    <tr>\n",
       "      <th>Batman</th>\n",
       "      <td>1943</td>\n",
       "      <td>Lewis Wilson</td>\n",
       "      <td>actor</td>\n",
       "      <td>Batman</td>\n",
       "      <td>1.0</td>\n",
       "    </tr>\n",
       "    <tr>\n",
       "      <th>Batman</th>\n",
       "      <td>1989</td>\n",
       "      <td>Jazzer Jeyes</td>\n",
       "      <td>actor</td>\n",
       "      <td>Napier Hood</td>\n",
       "      <td>32.0</td>\n",
       "    </tr>\n",
       "    <tr>\n",
       "      <th>Batman</th>\n",
       "      <td>1989</td>\n",
       "      <td>George Lane Cooper</td>\n",
       "      <td>actor</td>\n",
       "      <td>Goon</td>\n",
       "      <td>16.0</td>\n",
       "    </tr>\n",
       "    <tr>\n",
       "      <th>Batman</th>\n",
       "      <td>1943</td>\n",
       "      <td>Harold Miller</td>\n",
       "      <td>actor</td>\n",
       "      <td>Restaurant Patron</td>\n",
       "      <td>NaN</td>\n",
       "    </tr>\n",
       "    <tr>\n",
       "      <th>Batman</th>\n",
       "      <td>1989</td>\n",
       "      <td>Tracey Walter</td>\n",
       "      <td>actor</td>\n",
       "      <td>Bob the Goon</td>\n",
       "      <td>10.0</td>\n",
       "    </tr>\n",
       "    <tr>\n",
       "      <th>Batman</th>\n",
       "      <td>1989</td>\n",
       "      <td>Kim Basinger</td>\n",
       "      <td>actress</td>\n",
       "      <td>Vicki Vale</td>\n",
       "      <td>3.0</td>\n",
       "    </tr>\n",
       "    <tr>\n",
       "      <th>Batman</th>\n",
       "      <td>1989</td>\n",
       "      <td>Sharon Holm</td>\n",
       "      <td>actress</td>\n",
       "      <td>Mrs. Wayne</td>\n",
       "      <td>49.0</td>\n",
       "    </tr>\n",
       "    <tr>\n",
       "      <th>Batman</th>\n",
       "      <td>1943</td>\n",
       "      <td>Karl Hackett</td>\n",
       "      <td>actor</td>\n",
       "      <td>Wallace</td>\n",
       "      <td>NaN</td>\n",
       "    </tr>\n",
       "    <tr>\n",
       "      <th>Batman</th>\n",
       "      <td>1989</td>\n",
       "      <td>Billy Dee Williams</td>\n",
       "      <td>actor</td>\n",
       "      <td>Harvey Dent</td>\n",
       "      <td>6.0</td>\n",
       "    </tr>\n",
       "    <tr>\n",
       "      <th>Batman</th>\n",
       "      <td>1943</td>\n",
       "      <td>Lewis Wilson</td>\n",
       "      <td>actor</td>\n",
       "      <td>Bruce Wayne</td>\n",
       "      <td>1.0</td>\n",
       "    </tr>\n",
       "    <tr>\n",
       "      <th>Batman</th>\n",
       "      <td>1989</td>\n",
       "      <td>Priscilla Cory</td>\n",
       "      <td>actress</td>\n",
       "      <td>Beautiful Hostage</td>\n",
       "      <td>NaN</td>\n",
       "    </tr>\n",
       "    <tr>\n",
       "      <th>Batman</th>\n",
       "      <td>1943</td>\n",
       "      <td>Kenne Duncan</td>\n",
       "      <td>actor</td>\n",
       "      <td>Fred, the Mechanic [Ch. 5-6</td>\n",
       "      <td>NaN</td>\n",
       "    </tr>\n",
       "    <tr>\n",
       "      <th>Batman</th>\n",
       "      <td>1943</td>\n",
       "      <td>William Austin</td>\n",
       "      <td>actor</td>\n",
       "      <td>Alfred Pennyworth</td>\n",
       "      <td>NaN</td>\n",
       "    </tr>\n",
       "    <tr>\n",
       "      <th>Batman</th>\n",
       "      <td>1989</td>\n",
       "      <td>Harold Coyne</td>\n",
       "      <td>actor</td>\n",
       "      <td>Gotham City Pedestrian</td>\n",
       "      <td>NaN</td>\n",
       "    </tr>\n",
       "    <tr>\n",
       "      <th>Batman</th>\n",
       "      <td>1943</td>\n",
       "      <td>Joey Ray</td>\n",
       "      <td>actor</td>\n",
       "      <td>Henchman</td>\n",
       "      <td>NaN</td>\n",
       "    </tr>\n",
       "    <tr>\n",
       "      <th>Batman</th>\n",
       "      <td>1989</td>\n",
       "      <td>Michael Balfour</td>\n",
       "      <td>actor</td>\n",
       "      <td>Scientist</td>\n",
       "      <td>44.0</td>\n",
       "    </tr>\n",
       "    <tr>\n",
       "      <th>Batman</th>\n",
       "      <td>1943</td>\n",
       "      <td>Cyril Ring</td>\n",
       "      <td>actor</td>\n",
       "      <td>Restaurant Patron</td>\n",
       "      <td>NaN</td>\n",
       "    </tr>\n",
       "    <tr>\n",
       "      <th>Batman</th>\n",
       "      <td>1989</td>\n",
       "      <td>Adrian Meyers</td>\n",
       "      <td>actor</td>\n",
       "      <td>Jimmy, Tourist Son</td>\n",
       "      <td>47.0</td>\n",
       "    </tr>\n",
       "    <tr>\n",
       "      <th>Batman</th>\n",
       "      <td>1943</td>\n",
       "      <td>Tom London</td>\n",
       "      <td>actor</td>\n",
       "      <td>Henchman Andrews</td>\n",
       "      <td>NaN</td>\n",
       "    </tr>\n",
       "    <tr>\n",
       "      <th>Batman</th>\n",
       "      <td>1943</td>\n",
       "      <td>Terry Frost</td>\n",
       "      <td>actor</td>\n",
       "      <td>Male Nurse [Ch. 7</td>\n",
       "      <td>NaN</td>\n",
       "    </tr>\n",
       "    <tr>\n",
       "      <th>Batman</th>\n",
       "      <td>1989</td>\n",
       "      <td>John Sterland</td>\n",
       "      <td>actor</td>\n",
       "      <td>Accountant</td>\n",
       "      <td>19.0</td>\n",
       "    </tr>\n",
       "    <tr>\n",
       "      <th>Batman</th>\n",
       "      <td>1943</td>\n",
       "      <td>Pat O'Malley</td>\n",
       "      <td>actor</td>\n",
       "      <td>Cop</td>\n",
       "      <td>NaN</td>\n",
       "    </tr>\n",
       "    <tr>\n",
       "      <th>Batman</th>\n",
       "      <td>1943</td>\n",
       "      <td>Douglas Croft</td>\n",
       "      <td>actor</td>\n",
       "      <td>Dick Grayson</td>\n",
       "      <td>2.0</td>\n",
       "    </tr>\n",
       "    <tr>\n",
       "      <th>Batman</th>\n",
       "      <td>1989</td>\n",
       "      <td>Amir M. Korangy</td>\n",
       "      <td>actor</td>\n",
       "      <td>Wine Steward</td>\n",
       "      <td>40.0</td>\n",
       "    </tr>\n",
       "    <tr>\n",
       "      <th>Batman</th>\n",
       "      <td>1943</td>\n",
       "      <td>Billy Wilkerson</td>\n",
       "      <td>actor</td>\n",
       "      <td>Steve [Ch. 8</td>\n",
       "      <td>NaN</td>\n",
       "    </tr>\n",
       "    <tr>\n",
       "      <th>Batman</th>\n",
       "      <td>1989</td>\n",
       "      <td>Serena Destouche</td>\n",
       "      <td>actress</td>\n",
       "      <td>Extra</td>\n",
       "      <td>NaN</td>\n",
       "    </tr>\n",
       "    <tr>\n",
       "      <th>Batman</th>\n",
       "      <td>1989</td>\n",
       "      <td>Robert Wuhl</td>\n",
       "      <td>actor</td>\n",
       "      <td>Alexander Knox</td>\n",
       "      <td>4.0</td>\n",
       "    </tr>\n",
       "    <tr>\n",
       "      <th>...</th>\n",
       "      <td>...</td>\n",
       "      <td>...</td>\n",
       "      <td>...</td>\n",
       "      <td>...</td>\n",
       "      <td>...</td>\n",
       "    </tr>\n",
       "    <tr>\n",
       "      <th>Batman</th>\n",
       "      <td>1989</td>\n",
       "      <td>Christian Wolf-La'Moy</td>\n",
       "      <td>actor</td>\n",
       "      <td>Taxi Driver</td>\n",
       "      <td>NaN</td>\n",
       "    </tr>\n",
       "    <tr>\n",
       "      <th>Batman</th>\n",
       "      <td>1989</td>\n",
       "      <td>Christian Wolf-La'Moy</td>\n",
       "      <td>actor</td>\n",
       "      <td>Joker's Car Owner</td>\n",
       "      <td>NaN</td>\n",
       "    </tr>\n",
       "    <tr>\n",
       "      <th>Batman</th>\n",
       "      <td>1989</td>\n",
       "      <td>Lachele Carl</td>\n",
       "      <td>actress</td>\n",
       "      <td>TV Technician</td>\n",
       "      <td>30.0</td>\n",
       "    </tr>\n",
       "    <tr>\n",
       "      <th>Batman</th>\n",
       "      <td>1989</td>\n",
       "      <td>Philip O'Brien</td>\n",
       "      <td>actor</td>\n",
       "      <td>Maitre D'</td>\n",
       "      <td>43.0</td>\n",
       "    </tr>\n",
       "    <tr>\n",
       "      <th>Batman</th>\n",
       "      <td>1989</td>\n",
       "      <td>Rachel Ryan</td>\n",
       "      <td>actress</td>\n",
       "      <td>Corpse</td>\n",
       "      <td>NaN</td>\n",
       "    </tr>\n",
       "    <tr>\n",
       "      <th>Batman</th>\n",
       "      <td>1943</td>\n",
       "      <td>Frank Shannon</td>\n",
       "      <td>actor</td>\n",
       "      <td>Dr. Hayden</td>\n",
       "      <td>NaN</td>\n",
       "    </tr>\n",
       "    <tr>\n",
       "      <th>Batman</th>\n",
       "      <td>1989</td>\n",
       "      <td>Bruce McGuire</td>\n",
       "      <td>actor</td>\n",
       "      <td>Anchorman</td>\n",
       "      <td>27.0</td>\n",
       "    </tr>\n",
       "    <tr>\n",
       "      <th>Batman</th>\n",
       "      <td>1989</td>\n",
       "      <td>Richard Durden</td>\n",
       "      <td>actor</td>\n",
       "      <td>TV Director</td>\n",
       "      <td>28.0</td>\n",
       "    </tr>\n",
       "    <tr>\n",
       "      <th>Batman</th>\n",
       "      <td>1943</td>\n",
       "      <td>Sam Lufkin</td>\n",
       "      <td>actor</td>\n",
       "      <td>Cop</td>\n",
       "      <td>NaN</td>\n",
       "    </tr>\n",
       "    <tr>\n",
       "      <th>Batman</th>\n",
       "      <td>1943</td>\n",
       "      <td>Eddie Kane</td>\n",
       "      <td>actor</td>\n",
       "      <td>J. Hanson</td>\n",
       "      <td>NaN</td>\n",
       "    </tr>\n",
       "    <tr>\n",
       "      <th>Batman</th>\n",
       "      <td>1989</td>\n",
       "      <td>Joel Cutrara</td>\n",
       "      <td>actor</td>\n",
       "      <td>Crimelord #2</td>\n",
       "      <td>22.0</td>\n",
       "    </tr>\n",
       "    <tr>\n",
       "      <th>Batman</th>\n",
       "      <td>1989</td>\n",
       "      <td>Jack Nicholson</td>\n",
       "      <td>actor</td>\n",
       "      <td>Jack Napier</td>\n",
       "      <td>2.0</td>\n",
       "    </tr>\n",
       "    <tr>\n",
       "      <th>Batman</th>\n",
       "      <td>1943</td>\n",
       "      <td>Dan White</td>\n",
       "      <td>actor</td>\n",
       "      <td>Mover with Pickup Truck</td>\n",
       "      <td>NaN</td>\n",
       "    </tr>\n",
       "    <tr>\n",
       "      <th>Batman</th>\n",
       "      <td>1943</td>\n",
       "      <td>Lester Dorr</td>\n",
       "      <td>actor</td>\n",
       "      <td>Agent on Plane [Ch. 10</td>\n",
       "      <td>NaN</td>\n",
       "    </tr>\n",
       "    <tr>\n",
       "      <th>Batman</th>\n",
       "      <td>1943</td>\n",
       "      <td>Michael Vallon</td>\n",
       "      <td>actor</td>\n",
       "      <td>Preston [Ch. 10</td>\n",
       "      <td>NaN</td>\n",
       "    </tr>\n",
       "    <tr>\n",
       "      <th>Batman</th>\n",
       "      <td>1943</td>\n",
       "      <td>Harry Wilson</td>\n",
       "      <td>actor</td>\n",
       "      <td>Henchman</td>\n",
       "      <td>NaN</td>\n",
       "    </tr>\n",
       "    <tr>\n",
       "      <th>Batman</th>\n",
       "      <td>1943</td>\n",
       "      <td>John (IV) Maxwell</td>\n",
       "      <td>actor</td>\n",
       "      <td>Sam Fletcher</td>\n",
       "      <td>NaN</td>\n",
       "    </tr>\n",
       "    <tr>\n",
       "      <th>Batman</th>\n",
       "      <td>1989</td>\n",
       "      <td>Kit Hollerbach</td>\n",
       "      <td>actress</td>\n",
       "      <td>Becky</td>\n",
       "      <td>29.0</td>\n",
       "    </tr>\n",
       "    <tr>\n",
       "      <th>Batman</th>\n",
       "      <td>1989</td>\n",
       "      <td>Anthony Wellington</td>\n",
       "      <td>actor</td>\n",
       "      <td>Patrolman at Party</td>\n",
       "      <td>39.0</td>\n",
       "    </tr>\n",
       "    <tr>\n",
       "      <th>Batman</th>\n",
       "      <td>1943</td>\n",
       "      <td>Sam Flint</td>\n",
       "      <td>actor</td>\n",
       "      <td>Dr. G.H. Borden [Ch. 1</td>\n",
       "      <td>NaN</td>\n",
       "    </tr>\n",
       "    <tr>\n",
       "      <th>Batman</th>\n",
       "      <td>1989</td>\n",
       "      <td>Mac McDonald</td>\n",
       "      <td>actor</td>\n",
       "      <td>Goon</td>\n",
       "      <td>15.0</td>\n",
       "    </tr>\n",
       "    <tr>\n",
       "      <th>Batman</th>\n",
       "      <td>1989</td>\n",
       "      <td>Jack Nicholson</td>\n",
       "      <td>actor</td>\n",
       "      <td>Joker</td>\n",
       "      <td>2.0</td>\n",
       "    </tr>\n",
       "    <tr>\n",
       "      <th>Batman</th>\n",
       "      <td>1989</td>\n",
       "      <td>Pat Hingle</td>\n",
       "      <td>actor</td>\n",
       "      <td>Commissioner James Gordon</td>\n",
       "      <td>5.0</td>\n",
       "    </tr>\n",
       "    <tr>\n",
       "      <th>Batman</th>\n",
       "      <td>1989</td>\n",
       "      <td>Steve Plytas</td>\n",
       "      <td>actor</td>\n",
       "      <td>Doctor</td>\n",
       "      <td>38.0</td>\n",
       "    </tr>\n",
       "    <tr>\n",
       "      <th>Batman</th>\n",
       "      <td>1943</td>\n",
       "      <td>Charles C. Wilson</td>\n",
       "      <td>actor</td>\n",
       "      <td>Police Captain Arnold</td>\n",
       "      <td>NaN</td>\n",
       "    </tr>\n",
       "    <tr>\n",
       "      <th>Batman</th>\n",
       "      <td>1989</td>\n",
       "      <td>Kate Harper</td>\n",
       "      <td>actress</td>\n",
       "      <td>Anchorwoman</td>\n",
       "      <td>26.0</td>\n",
       "    </tr>\n",
       "    <tr>\n",
       "      <th>Batman</th>\n",
       "      <td>1943</td>\n",
       "      <td>Harry Tenbrook</td>\n",
       "      <td>actor</td>\n",
       "      <td>Bartender</td>\n",
       "      <td>NaN</td>\n",
       "    </tr>\n",
       "    <tr>\n",
       "      <th>Batman</th>\n",
       "      <td>1943</td>\n",
       "      <td>Knox Manning</td>\n",
       "      <td>actor</td>\n",
       "      <td>Narrator</td>\n",
       "      <td>NaN</td>\n",
       "    </tr>\n",
       "    <tr>\n",
       "      <th>Batman</th>\n",
       "      <td>1989</td>\n",
       "      <td>Paul Birchard</td>\n",
       "      <td>actor</td>\n",
       "      <td>Another Reporter</td>\n",
       "      <td>55.0</td>\n",
       "    </tr>\n",
       "    <tr>\n",
       "      <th>Batman</th>\n",
       "      <td>1943</td>\n",
       "      <td>George Chesebro</td>\n",
       "      <td>actor</td>\n",
       "      <td>Brennan [Ch. 1-3</td>\n",
       "      <td>NaN</td>\n",
       "    </tr>\n",
       "  </tbody>\n",
       "</table>\n",
       "<p>120 rows × 5 columns</p>\n",
       "</div>"
      ],
      "text/plain": [
       "        year                   name     type                    character  \\\n",
       "title                                                                       \n",
       "Batman  1989             Hugo Blick    actor            Young Jack Napier   \n",
       "Batman  1943      Blackie Whiteford    actor                       Barfly   \n",
       "Batman  1989     Elliott (II) Stein    actor                 Man in Crowd   \n",
       "Batman  1943           Lewis Wilson    actor                       Batman   \n",
       "Batman  1989           Jazzer Jeyes    actor                  Napier Hood   \n",
       "Batman  1989     George Lane Cooper    actor                         Goon   \n",
       "Batman  1943          Harold Miller    actor            Restaurant Patron   \n",
       "Batman  1989          Tracey Walter    actor                 Bob the Goon   \n",
       "Batman  1989           Kim Basinger  actress                   Vicki Vale   \n",
       "Batman  1989            Sharon Holm  actress                   Mrs. Wayne   \n",
       "Batman  1943           Karl Hackett    actor                      Wallace   \n",
       "Batman  1989     Billy Dee Williams    actor                  Harvey Dent   \n",
       "Batman  1943           Lewis Wilson    actor                  Bruce Wayne   \n",
       "Batman  1989         Priscilla Cory  actress            Beautiful Hostage   \n",
       "Batman  1943           Kenne Duncan    actor  Fred, the Mechanic [Ch. 5-6   \n",
       "Batman  1943         William Austin    actor            Alfred Pennyworth   \n",
       "Batman  1989           Harold Coyne    actor       Gotham City Pedestrian   \n",
       "Batman  1943               Joey Ray    actor                     Henchman   \n",
       "Batman  1989        Michael Balfour    actor                    Scientist   \n",
       "Batman  1943             Cyril Ring    actor            Restaurant Patron   \n",
       "Batman  1989          Adrian Meyers    actor           Jimmy, Tourist Son   \n",
       "Batman  1943             Tom London    actor             Henchman Andrews   \n",
       "Batman  1943            Terry Frost    actor            Male Nurse [Ch. 7   \n",
       "Batman  1989          John Sterland    actor                   Accountant   \n",
       "Batman  1943           Pat O'Malley    actor                          Cop   \n",
       "Batman  1943          Douglas Croft    actor                 Dick Grayson   \n",
       "Batman  1989        Amir M. Korangy    actor                 Wine Steward   \n",
       "Batman  1943        Billy Wilkerson    actor                 Steve [Ch. 8   \n",
       "Batman  1989       Serena Destouche  actress                        Extra   \n",
       "Batman  1989            Robert Wuhl    actor               Alexander Knox   \n",
       "...      ...                    ...      ...                          ...   \n",
       "Batman  1989  Christian Wolf-La'Moy    actor                  Taxi Driver   \n",
       "Batman  1989  Christian Wolf-La'Moy    actor            Joker's Car Owner   \n",
       "Batman  1989           Lachele Carl  actress                TV Technician   \n",
       "Batman  1989         Philip O'Brien    actor                    Maitre D'   \n",
       "Batman  1989            Rachel Ryan  actress                       Corpse   \n",
       "Batman  1943          Frank Shannon    actor                   Dr. Hayden   \n",
       "Batman  1989          Bruce McGuire    actor                    Anchorman   \n",
       "Batman  1989         Richard Durden    actor                  TV Director   \n",
       "Batman  1943             Sam Lufkin    actor                          Cop   \n",
       "Batman  1943             Eddie Kane    actor                    J. Hanson   \n",
       "Batman  1989           Joel Cutrara    actor                 Crimelord #2   \n",
       "Batman  1989         Jack Nicholson    actor                  Jack Napier   \n",
       "Batman  1943              Dan White    actor      Mover with Pickup Truck   \n",
       "Batman  1943            Lester Dorr    actor       Agent on Plane [Ch. 10   \n",
       "Batman  1943         Michael Vallon    actor              Preston [Ch. 10   \n",
       "Batman  1943           Harry Wilson    actor                     Henchman   \n",
       "Batman  1943      John (IV) Maxwell    actor                 Sam Fletcher   \n",
       "Batman  1989         Kit Hollerbach  actress                        Becky   \n",
       "Batman  1989     Anthony Wellington    actor           Patrolman at Party   \n",
       "Batman  1943              Sam Flint    actor       Dr. G.H. Borden [Ch. 1   \n",
       "Batman  1989           Mac McDonald    actor                         Goon   \n",
       "Batman  1989         Jack Nicholson    actor                        Joker   \n",
       "Batman  1989             Pat Hingle    actor    Commissioner James Gordon   \n",
       "Batman  1989           Steve Plytas    actor                       Doctor   \n",
       "Batman  1943      Charles C. Wilson    actor        Police Captain Arnold   \n",
       "Batman  1989            Kate Harper  actress                  Anchorwoman   \n",
       "Batman  1943         Harry Tenbrook    actor                    Bartender   \n",
       "Batman  1943           Knox Manning    actor                     Narrator   \n",
       "Batman  1989          Paul Birchard    actor             Another Reporter   \n",
       "Batman  1943        George Chesebro    actor             Brennan [Ch. 1-3   \n",
       "\n",
       "           n  \n",
       "title         \n",
       "Batman  41.0  \n",
       "Batman   NaN  \n",
       "Batman  53.0  \n",
       "Batman   1.0  \n",
       "Batman  32.0  \n",
       "Batman  16.0  \n",
       "Batman   NaN  \n",
       "Batman  10.0  \n",
       "Batman   3.0  \n",
       "Batman  49.0  \n",
       "Batman   NaN  \n",
       "Batman   6.0  \n",
       "Batman   1.0  \n",
       "Batman   NaN  \n",
       "Batman   NaN  \n",
       "Batman   NaN  \n",
       "Batman   NaN  \n",
       "Batman   NaN  \n",
       "Batman  44.0  \n",
       "Batman   NaN  \n",
       "Batman  47.0  \n",
       "Batman   NaN  \n",
       "Batman   NaN  \n",
       "Batman  19.0  \n",
       "Batman   NaN  \n",
       "Batman   2.0  \n",
       "Batman  40.0  \n",
       "Batman   NaN  \n",
       "Batman   NaN  \n",
       "Batman   4.0  \n",
       "...      ...  \n",
       "Batman   NaN  \n",
       "Batman   NaN  \n",
       "Batman  30.0  \n",
       "Batman  43.0  \n",
       "Batman   NaN  \n",
       "Batman   NaN  \n",
       "Batman  27.0  \n",
       "Batman  28.0  \n",
       "Batman   NaN  \n",
       "Batman   NaN  \n",
       "Batman  22.0  \n",
       "Batman   2.0  \n",
       "Batman   NaN  \n",
       "Batman   NaN  \n",
       "Batman   NaN  \n",
       "Batman   NaN  \n",
       "Batman   NaN  \n",
       "Batman  29.0  \n",
       "Batman  39.0  \n",
       "Batman   NaN  \n",
       "Batman  15.0  \n",
       "Batman   2.0  \n",
       "Batman   5.0  \n",
       "Batman  38.0  \n",
       "Batman   NaN  \n",
       "Batman  26.0  \n",
       "Batman   NaN  \n",
       "Batman   NaN  \n",
       "Batman  55.0  \n",
       "Batman   NaN  \n",
       "\n",
       "[120 rows x 5 columns]"
      ]
     },
     "execution_count": 16,
     "metadata": {},
     "output_type": "execute_result"
    }
   ],
   "source": [
    "%%time\n",
    "# way faster! nanosec\n",
    "c.loc['Batman']"
   ]
  },
  {
   "cell_type": "code",
   "execution_count": null,
   "metadata": {
    "collapsed": false
   },
   "outputs": [],
   "source": [
    "%%time\n",
    "c = c.reset_index()\n",
    "c = c.set_index(['title', 'year']).sort_index()"
   ]
  },
  {
   "cell_type": "code",
   "execution_count": null,
   "metadata": {
    "collapsed": false
   },
   "outputs": [],
   "source": [
    "%%time\n",
    "c.loc['Batman'].loc[1943].head()\n",
    "# c.loc[['Batman', 1943]] # slower"
   ]
  },
  {
   "cell_type": "code",
   "execution_count": null,
   "metadata": {
    "collapsed": false
   },
   "outputs": [],
   "source": [
    "c = cast\n",
    "c = c[c.name == 'George Clooney']\n",
    "a = c.groupby(['title', 'year', 'character']).size()\n",
    "b = c.groupby(['title', 'year']).size()\n",
    "d = c.groupby(['year']).size()\n"
   ]
  },
  {
   "cell_type": "code",
   "execution_count": null,
   "metadata": {
    "collapsed": false,
    "scrolled": true
   },
   "outputs": [],
   "source": [
    "d.plot(ylim = 0) # note, we can add ylim = 0 to forece it to start at zero\n"
   ]
  },
  {
   "cell_type": "code",
   "execution_count": null,
   "metadata": {
    "collapsed": false
   },
   "outputs": [],
   "source": [
    "c.groupby(['year']).size().plot(kind = 'bar')"
   ]
  },
  {
   "cell_type": "code",
   "execution_count": null,
   "metadata": {
    "collapsed": false,
    "scrolled": true
   },
   "outputs": [],
   "source": [
    "c.groupby(['year']).n.max().plot(kind = 'bar')\n"
   ]
  },
  {
   "cell_type": "code",
   "execution_count": null,
   "metadata": {
    "collapsed": false,
    "scrolled": true
   },
   "outputs": [],
   "source": [
    "x = c.groupby(['year']).n.min().plot(kind = 'bar')\n"
   ]
  },
  {
   "cell_type": "code",
   "execution_count": null,
   "metadata": {
    "collapsed": false
   },
   "outputs": [],
   "source": [
    "c.groupby(c.year // 10*10).n.size().plot(kind = 'bar')\n",
    "# we can group by decade by putting in a manipulation inside groupby"
   ]
  },
  {
   "cell_type": "code",
   "execution_count": null,
   "metadata": {
    "collapsed": false,
    "scrolled": true
   },
   "outputs": [],
   "source": [
    "c = cast\n",
    "c = c[(c.character == 'Kermit the Frog')|(c.character == 'Oscar the Grouch')]\n",
    "c = c.groupby(['character', c.year//10*10]).n.size()\n",
    "g = c\n",
    "# unstack will choose one of the indices in the series outputed from above\n",
    "c = c.unstack(['character'])\n",
    "c.plot(kind = 'bar')\n"
   ]
  },
  {
   "cell_type": "code",
   "execution_count": null,
   "metadata": {
    "collapsed": false,
    "scrolled": true
   },
   "outputs": [],
   "source": [
    "(c['Kermit the Frog'] - c['Oscar the Grouch']).plot(kind = 'bar')"
   ]
  },
  {
   "cell_type": "code",
   "execution_count": null,
   "metadata": {
    "collapsed": false
   },
   "outputs": [],
   "source": [
    "g.unstack().fillna(0) # we can choose to change how stacking works\n",
    "g.unstack(0).fillna('').plot(kind = 'bar') # we can choose to change how stacking works\n",
    "# we can also fill in misisng data with fillna\n"
   ]
  },
  {
   "cell_type": "code",
   "execution_count": null,
   "metadata": {
    "collapsed": false
   },
   "outputs": [],
   "source": [
    "d = g.unstack(0)\n",
    "d['extra'] = 1\n",
    "d = g.set_index('extra', append = True)\n",
    "d"
   ]
  },
  {
   "cell_type": "code",
   "execution_count": null,
   "metadata": {
    "collapsed": false
   },
   "outputs": [],
   "source": []
  }
 ],
 "metadata": {
  "kernelspec": {
   "display_name": "Python 3",
   "language": "python",
   "name": "python3"
  },
  "language_info": {
   "codemirror_mode": {
    "name": "ipython",
    "version": 3
   },
   "file_extension": ".py",
   "mimetype": "text/x-python",
   "name": "python",
   "nbconvert_exporter": "python",
   "pygments_lexer": "ipython3",
   "version": "3.6.0"
  }
 },
 "nbformat": 4,
 "nbformat_minor": 2
}
